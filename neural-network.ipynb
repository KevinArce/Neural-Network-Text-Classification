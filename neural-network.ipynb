{
 "cells": [
  {
   "cell_type": "code",
   "execution_count": 1,
   "metadata": {},
   "outputs": [],
   "source": [
    "import numpy as np # numpy is a package for scientific computing in Python\n",
    "import pandas as pd # pandas is a package for reading and writing dataframes in Python\n",
    "import matplotlib.pyplot as plt # matplotlib is a package for plotting in Python\n",
    "\n",
    "import tensorflow as tf # tensorflow is a package for high-level machine learning in Python\n",
    "import tensorflow_hub as hub # tensorflow_hub is a package for using pretrained neural network models in Python"
   ]
  },
  {
   "cell_type": "code",
   "execution_count": null,
   "metadata": {},
   "outputs": [],
   "source": [
    "# Load the dataset from the CSV file and store it in a pandas DataFrame. \n",
    "df = pd.read_csv(\"../data/wine-reviews.csv\", usecols=['country', 'description', 'points', 'price', 'variety', 'winery']) # usecols is a parameter that allows you to select a subset of columns from a DataFrame."
   ]
  },
  {
   "cell_type": "code",
   "execution_count": null,
   "metadata": {},
   "outputs": [],
   "source": [
    "df.head() # Print the first 5 rows of the DataFrame."
   ]
  },
  {
   "cell_type": "code",
   "execution_count": null,
   "metadata": {},
   "outputs": [],
   "source": [
    "df = df.dropna(subset=[\"description\", \"points\"]) # dropna is a method that drops rows with missing values. subset is a parameter that allows you to select a subset of columns from a DataFrame."
   ]
  },
  {
   "cell_type": "code",
   "execution_count": null,
   "metadata": {},
   "outputs": [],
   "source": [
    "df.head() # Print the first 5 rows of the DataFrame."
   ]
  },
  {
   "cell_type": "code",
   "execution_count": null,
   "metadata": {},
   "outputs": [],
   "source": [
    "plt.hist(df.points, bins=20) # hist is a method that plots a histogram. bins is a parameter that allows you to specify the number of bins in the histogram. \n",
    "plt.title(\"Histogram of Wine Points\") # title is a parameter that allows you to specify the title of the plot.\n",
    "plt.xlabel(\"Points\") # xlabel is a parameter that allows you to specify the label for the x-axis.\n",
    "plt.ylabel(\"Frequency\") # ylabel is a parameter that allows you to specify the label for the y-axis.\n",
    "plt.show() # show is a parameter that allows you to display the plot."
   ]
  },
  {
   "cell_type": "code",
   "execution_count": null,
   "metadata": {},
   "outputs": [],
   "source": []
  }
 ],
 "metadata": {
  "kernelspec": {
   "display_name": "Python 3.10.5 ('entorno': venv)",
   "language": "python",
   "name": "python3"
  },
  "language_info": {
   "codemirror_mode": {
    "name": "ipython",
    "version": 3
   },
   "file_extension": ".py",
   "mimetype": "text/x-python",
   "name": "python",
   "nbconvert_exporter": "python",
   "pygments_lexer": "ipython3",
   "version": "3.10.5"
  },
  "orig_nbformat": 4,
  "vscode": {
   "interpreter": {
    "hash": "ec9ec046ec6e16ece9353857bea9446bc2f25b5a8e2b385065737cf84b5576fc"
   }
  }
 },
 "nbformat": 4,
 "nbformat_minor": 2
}
